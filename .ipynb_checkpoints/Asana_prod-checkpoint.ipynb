{
 "cells": [
  {
   "cell_type": "markdown",
   "id": "083f83cd",
   "metadata": {},
   "source": [
    "# Path C Jobs creation"
   ]
  },
  {
   "cell_type": "code",
   "execution_count": 7,
   "id": "6d15e59e",
   "metadata": {},
   "outputs": [],
   "source": [
    "import sys\n",
    "import os\n",
    "import json\n",
    "#Personal Access token which will be replace by Service Token\n",
    "os.environ['ASANA_ACCESS_TOKEN']='1/1202049047176660:fca782551e5ae0b4070abf111935ecb1'\n",
    "import asana\n",
    "from six import print_\n",
    "import re\n",
    "\n",
    "#Project ID for \"TEST AUTOMATION - LATAM Path C Position's Statuses & Sync\"\n",
    "project_id='1202074112575754'"
   ]
  },
  {
   "cell_type": "code",
   "execution_count": 4,
   "id": "4f600740",
   "metadata": {},
   "outputs": [],
   "source": [
    "#Gettin all the task for the specified project\n",
    "\n",
    "if 'ASANA_ACCESS_TOKEN' in os.environ:\n",
    "    client = asana.Client.access_token(os.environ['ASANA_ACCESS_TOKEN'])  \n",
    "    tasks=client.tasks.find_by_project(project_id)\n",
    "    tasks=[i for i in tasks]"
   ]
  },
  {
   "cell_type": "code",
   "execution_count": 5,
   "id": "b907c0a0",
   "metadata": {},
   "outputs": [
    {
     "name": "stderr",
     "output_type": "stream",
     "text": [
      "/home/salman/Downloads/asana_venv/lib/python3.8/site-packages/google/auth/_default.py:79: UserWarning: Your application has authenticated using end user credentials from Google Cloud SDK without a quota project. You might receive a \"quota exceeded\" or \"API not enabled\" error. We recommend you rerun `gcloud auth application-default login` and make sure a quota project is added. Or you can use service accounts instead. For more information about service accounts, see https://cloud.google.com/docs/authentication/\n",
      "  warnings.warn(_CLOUD_SDK_CREDENTIALS_WARNING)\n",
      "/home/salman/Downloads/asana_venv/lib/python3.8/site-packages/google/auth/_default.py:79: UserWarning: Your application has authenticated using end user credentials from Google Cloud SDK without a quota project. You might receive a \"quota exceeded\" or \"API not enabled\" error. We recommend you rerun `gcloud auth application-default login` and make sure a quota project is added. Or you can use service accounts instead. For more information about service accounts, see https://cloud.google.com/docs/authentication/\n",
      "  warnings.warn(_CLOUD_SDK_CREDENTIALS_WARNING)\n"
     ]
    },
    {
     "name": "stdout",
     "output_type": "stream",
     "text": [
      "Total Path C jobs from BQ : 123\n"
     ]
    }
   ],
   "source": [
    "#Getting all the Path C jobs available in BQ\n",
    "\n",
    "from google.cloud import bigquery\n",
    "bq_client=bigquery.Client()\n",
    "query_output = bq_client.query(f\"\"\"select j.id, job_id,j.company, CONCAT('https://matching.turing.com/job/',j.id) as matching_link,\n",
    "j.created_date, j.role, j.customer_category, j.opportunity_status, js.status as matching_status,\n",
    "j.max_acceptable_rate,j.public_description\n",
    "from devdb_mirror.ms2_job j\n",
    "LEFT JOIN devdb_mirror.ms2_job_status js on js.id = j.job_status_id\n",
    "inner JOIN devdb_mirror.ms2_job_type jt\n",
    "on j.id = jt.job_id and jt.job_type_catalog_id = 4\n",
    "where j.is_deleted = 0\n",
    "\"\"\")\n",
    "result_df = query_output.to_dataframe()\n",
    "print(\"Total Path C jobs from BQ : \"+str(len(result_df)))"
   ]
  },
  {
   "cell_type": "code",
   "execution_count": 8,
   "id": "d876b217",
   "metadata": {},
   "outputs": [],
   "source": [
    "#Search for ID's in task name\n",
    "\n",
    "re_objects=[re.search('^\\d{4}',task['name']) for task in tasks]\n",
    "job_ids_already_created=[]\n",
    "for re_object in re_objects:\n",
    "    if re_object is not None:\n",
    "        job_ids_already_created.append(int(re_object.group()))"
   ]
  },
  {
   "cell_type": "code",
   "execution_count": 9,
   "id": "da2664aa",
   "metadata": {},
   "outputs": [
    {
     "name": "stdout",
     "output_type": "stream",
     "text": [
      "New path C jobs which do not exist before : 81\n"
     ]
    }
   ],
   "source": [
    "#Filtering or Delta of new jobs\n",
    "\n",
    "result_df=result_df[~result_df['id'].isin(job_ids_already_created)]\n",
    "print(\"New path C jobs which do not exist before : \"+str(len(result_df)))"
   ]
  },
  {
   "cell_type": "code",
   "execution_count": null,
   "id": "7c7489fb",
   "metadata": {},
   "outputs": [],
   "source": [
    "#Creating Asana Tasks from dataframe\n",
    "\n",
    "for ind,row in result_df.iterrows():\n",
    "    task_json={\"memberships\": [{\"project\": '1202074112575754', \"section\": '1202080202859365'}],\n",
    "               'name': str(row['id'])+' - '+row['role'], \n",
    "                'notes': row['public_description'],\n",
    "               'custom_fields':{\"1202080200755485\": row['matching_link'],\n",
    "                                '1201752279340547': row['company'],\n",
    "                               \"1202080200763143\": row['max_acceptable_rate']\n",
    "                               }\n",
    "          }\n",
    "    client.tasks.create_in_workspace('1137034884867634', task_json)\n",
    "    if(ind>1):\n",
    "        break"
   ]
  },
  {
   "cell_type": "markdown",
   "id": "6f657b3c",
   "metadata": {},
   "source": [
    "# Devs assigned to Consultants"
   ]
  },
  {
   "cell_type": "code",
   "execution_count": 10,
   "id": "50e3ff72",
   "metadata": {},
   "outputs": [],
   "source": [
    "from google.cloud import bigquery\n",
    "import re\n",
    "\n",
    "dict_of_pipelines_with_gid={\n",
    "'TEST AUTOMATION -  Personal Pipeline - Adrian':'1202110042372278',\n",
    "'TEST AUTOMATION -  Personal Pipeline - Paz':'1202110042372319'} \n",
    "\n",
    "dict_of_consultant_name_to_pipelines={\n",
    "'Adrian Olivera':'TEST AUTOMATION -  Personal Pipeline - Adrian',\n",
    "'Paz Calderón':'TEST AUTOMATION -  Personal Pipeline - Paz'}"
   ]
  },
  {
   "cell_type": "code",
   "execution_count": 11,
   "id": "8df36bdc",
   "metadata": {},
   "outputs": [
    {
     "name": "stderr",
     "output_type": "stream",
     "text": [
      "/home/salman/Downloads/asana_venv/lib/python3.8/site-packages/google/auth/_default.py:79: UserWarning: Your application has authenticated using end user credentials from Google Cloud SDK without a quota project. You might receive a \"quota exceeded\" or \"API not enabled\" error. We recommend you rerun `gcloud auth application-default login` and make sure a quota project is added. Or you can use service accounts instead. For more information about service accounts, see https://cloud.google.com/docs/authentication/\n",
      "  warnings.warn(_CLOUD_SDK_CREDENTIALS_WARNING)\n",
      "/home/salman/Downloads/asana_venv/lib/python3.8/site-packages/google/auth/_default.py:79: UserWarning: Your application has authenticated using end user credentials from Google Cloud SDK without a quota project. You might receive a \"quota exceeded\" or \"API not enabled\" error. We recommend you rerun `gcloud auth application-default login` and make sure a quota project is added. Or you can use service accounts instead. For more information about service accounts, see https://cloud.google.com/docs/authentication/\n",
      "  warnings.warn(_CLOUD_SDK_CREDENTIALS_WARNING)\n"
     ]
    },
    {
     "name": "stdout",
     "output_type": "stream",
     "text": [
      "6664\n"
     ]
    },
    {
     "data": {
      "text/html": [
       "<div>\n",
       "<style scoped>\n",
       "    .dataframe tbody tr th:only-of-type {\n",
       "        vertical-align: middle;\n",
       "    }\n",
       "\n",
       "    .dataframe tbody tr th {\n",
       "        vertical-align: top;\n",
       "    }\n",
       "\n",
       "    .dataframe thead th {\n",
       "        text-align: right;\n",
       "    }\n",
       "</style>\n",
       "<table border=\"1\" class=\"dataframe\">\n",
       "  <thead>\n",
       "    <tr style=\"text-align: right;\">\n",
       "      <th></th>\n",
       "      <th>dev_id</th>\n",
       "      <th>career_consultant_assigned_at</th>\n",
       "      <th>assigned_career_consultant</th>\n",
       "    </tr>\n",
       "  </thead>\n",
       "  <tbody>\n",
       "    <tr>\n",
       "      <th>0</th>\n",
       "      <td>2166658</td>\n",
       "      <td>2022-04-08 06:39:36+00:00</td>\n",
       "      <td>Farwa Bashir</td>\n",
       "    </tr>\n",
       "    <tr>\n",
       "      <th>1</th>\n",
       "      <td>1598031</td>\n",
       "      <td>2021-11-10 00:50:12+00:00</td>\n",
       "      <td>Rocio Mendieta</td>\n",
       "    </tr>\n",
       "    <tr>\n",
       "      <th>2</th>\n",
       "      <td>788328</td>\n",
       "      <td>2022-03-09 09:38:26+00:00</td>\n",
       "      <td>Kanis Fathima</td>\n",
       "    </tr>\n",
       "    <tr>\n",
       "      <th>3</th>\n",
       "      <td>1466703</td>\n",
       "      <td>2021-09-28 16:20:13+00:00</td>\n",
       "      <td>Kanis Fathima</td>\n",
       "    </tr>\n",
       "    <tr>\n",
       "      <th>4</th>\n",
       "      <td>1618725</td>\n",
       "      <td>2021-12-11 10:59:14+00:00</td>\n",
       "      <td>Farwa Bashir</td>\n",
       "    </tr>\n",
       "  </tbody>\n",
       "</table>\n",
       "</div>"
      ],
      "text/plain": [
       "    dev_id career_consultant_assigned_at assigned_career_consultant\n",
       "0  2166658     2022-04-08 06:39:36+00:00               Farwa Bashir\n",
       "1  1598031     2021-11-10 00:50:12+00:00             Rocio Mendieta\n",
       "2   788328     2022-03-09 09:38:26+00:00              Kanis Fathima\n",
       "3  1466703     2021-09-28 16:20:13+00:00              Kanis Fathima\n",
       "4  1618725     2021-12-11 10:59:14+00:00               Farwa Bashir"
      ]
     },
     "execution_count": 11,
     "metadata": {},
     "output_type": "execute_result"
    }
   ],
   "source": [
    "#Getting all the devs assigned to consultants from BQ\n",
    "\n",
    "bq_client=bigquery.Client()\n",
    "query_output = bq_client.query(f\"\"\"with last_updated_row as\n",
    "(SELECT DISTINCT\n",
    "dch.developer_id as dev_id, \n",
    "max(dch.time_changed) over(partition by dch.developer_id) as career_consultant_assigned_at,\n",
    "nth_value(users.full_name,1) over(partition by dch.developer_id order by dch.time_changed desc)  as assigned_career_consultant\n",
    "FROM devdb_mirror.developer_changes_history dch\n",
    "LEFT JOIN devdb_mirror.tpm_user users ON users.id = cast(dch.new_value as int64)\n",
    "WHERE dch.time_changed > '2021-06-30' and dch.column = \"careerConsultantId\" AND users.user_name IN\n",
    "( SELECT email FROM custom_dashboards.sourcers_data))\n",
    "Select lur.*,\n",
    "dd.status,\n",
    "CONCAT('https://matching.turing.com/developer/',lur.dev_id) as matching_link\n",
    "from last_updated_row lur\n",
    "inner join devdb_mirror.developer_detail dd on dd.user_id=lur.dev_id\n",
    "\"\"\")\n",
    "result_df = query_output.to_dataframe()\n",
    "print(len(result_df))\n",
    "result_df.head()"
   ]
  },
  {
   "cell_type": "code",
   "execution_count": 12,
   "id": "22c9489c",
   "metadata": {},
   "outputs": [
    {
     "name": "stderr",
     "output_type": "stream",
     "text": [
      "/home/salman/Downloads/asana_venv/lib/python3.8/site-packages/asana/client.py:155: UserWarning: This request is affected by the \"new_user_task_lists\" deprecation. Please visit this url for more info: https://forum.asana.com/t/update-on-our-planned-api-changes-to-user-task-lists-a-k-a-my-tasks/103828\n",
      "Adding \"new_user_task_lists\" to your \"Asana-Enable\" or \"Asana-Disable\" header will opt in/out to this deprecation and suppress this warning.\n",
      "  warnings.warn(message)\n"
     ]
    },
    {
     "name": "stdout",
     "output_type": "stream",
     "text": [
      "Adrian Olivera has 31 new devs assigned\n",
      "Paz Calderón has 255 new devs assigned\n",
      "CPU times: user 330 ms, sys: 3.68 ms, total: 333 ms\n",
      "Wall time: 1min 11s\n"
     ]
    }
   ],
   "source": [
    "%%time\n",
    "#Calculating delta of every consultant\n",
    "\n",
    "client = asana.Client.access_token(os.environ['ASANA_ACCESS_TOKEN'])\n",
    "for k,v in dict_of_consultant_name_to_pipelines.items():\n",
    "    filtered_data=result_df[result_df['assigned_career_consultant']==k]\n",
    "    sections=client.sections.find_by_project(dict_of_pipelines_with_gid[v])\n",
    "    gid_of_pre_test=[item['gid'] for item in sections if item['name']=='Pre-Test'][0]\n",
    "    tasks = client.tasks.get_tasks_for_section(gid_of_pre_test)\n",
    "    list_of_devs_already_exist=[]\n",
    "    gid_of_status=''\n",
    "    gid_of_matching_link=''\n",
    "    for task in tasks:\n",
    "        task_info=client.tasks.get_task(task['gid'])\n",
    "        for custom_field in task_info['custom_fields']:\n",
    "            if custom_field['display_value']!=None and custom_field['display_value'].find('https://matching.turing.com/developer/')!=-1:\n",
    "                list_of_devs_already_exist.append(int(re.search('\\d+',custom_field['display_value']).group()))\n",
    "                gid_of_matching_link=custom_field['gid']\n",
    "            if custom_field['name']=='Status':\n",
    "                gid_of_status=custom_field['gid']\n",
    "\n",
    "    filtered_data=filtered_data[~filtered_data['dev_id'].isin(list_of_devs_already_exist)]\n",
    "    print(k+' has '+str(len(filtered_data))+' new devs assigned')\n",
    "    \n",
    "    for ind,row in filtered_data.iterrows():\n",
    "        task_json={\"memberships\": [{\"project\": dict_of_pipelines_with_gid[v], \"section\": gid_of_pre_test}],\n",
    "               'name': str(row['dev_id']),\n",
    "               'custom_fields':{gid_of_matching_link: row['matching_link'],\n",
    "                               }\n",
    "                  }\n",
    "        client.tasks.create_in_workspace('1137034884867634', task_json)\n",
    "        if(ind>0):\n",
    "            break"
   ]
  },
  {
   "cell_type": "code",
   "execution_count": null,
   "id": "2d7ad783",
   "metadata": {},
   "outputs": [],
   "source": []
  }
 ],
 "metadata": {
  "kernelspec": {
   "display_name": "asana_venv",
   "language": "python",
   "name": "asana_venv"
  },
  "language_info": {
   "codemirror_mode": {
    "name": "ipython",
    "version": 3
   },
   "file_extension": ".py",
   "mimetype": "text/x-python",
   "name": "python",
   "nbconvert_exporter": "python",
   "pygments_lexer": "ipython3",
   "version": "3.8.12"
  }
 },
 "nbformat": 4,
 "nbformat_minor": 5
}
